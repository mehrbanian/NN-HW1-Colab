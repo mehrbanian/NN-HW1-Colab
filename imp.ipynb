{
 "cells": [
  {
   "cell_type": "code",
   "execution_count": 1,
   "metadata": {},
   "outputs": [],
   "source": [
    "import numpy as np\n",
    "import pandas as pd\n",
    "import tensorflow as tf\n"
   ]
  },
  {
   "cell_type": "code",
   "execution_count": 2,
   "metadata": {},
   "outputs": [],
   "source": [
    "data = np.array(pd.read_csv(\"Dataset/Text_Emotion_Data.csv\"))\n",
    "stopwords = np.array(pd.read_csv(\"Dataset/stopwords.txt\", sep=\" \", header=None)).flatten()"
   ]
  },
  {
   "cell_type": "code",
   "execution_count": 3,
   "metadata": {},
   "outputs": [],
   "source": [
    "X = data[:, 0]\n",
    "y = data[:, 1]"
   ]
  },
  {
   "cell_type": "code",
   "execution_count": 4,
   "metadata": {},
   "outputs": [],
   "source": [
    "import re\n",
    "\n",
    "def remove_none_alpha(x):\n",
    "    regex = re.compile('[^a-zA-Z]')\n",
    "    return regex.sub(' ', x)"
   ]
  },
  {
   "cell_type": "code",
   "execution_count": 5,
   "metadata": {},
   "outputs": [],
   "source": [
    "stopwords = [remove_none_alpha(w) for w in stopwords]"
   ]
  },
  {
   "cell_type": "code",
   "execution_count": 6,
   "metadata": {},
   "outputs": [],
   "source": [
    "X_seq = []\n",
    "for sentence in X:\n",
    "    words_seq = remove_none_alpha(sentence).lower().split(\" \")\n",
    "    words_seq = [w for w in words_seq if len(w) > 2]\n",
    "    words_seq = [w for w in words_seq if w not in stopwords]\n",
    "    X_seq.append(words_seq)"
   ]
  },
  {
   "cell_type": "code",
   "execution_count": 7,
   "metadata": {},
   "outputs": [],
   "source": [
    "max_len = len(max(X_seq, key=len))\n",
    "\n",
    "# create a new list of lists with the desired size, padding with empty strings\n",
    "sequences = [['' for _ in range(max_len)] for _ in range(len(X_seq))]\n",
    "\n",
    "# copy the elements from the original lists into the new list, padding with empty strings as needed\n",
    "for i, sequence in enumerate(X_seq):\n",
    "    sequences[i][:len(sequence)] = sequence"
   ]
  },
  {
   "cell_type": "code",
   "execution_count": 8,
   "metadata": {},
   "outputs": [],
   "source": [
    "def one_hot_encode(sequence, word_to_idx):\n",
    "    num_words = len(word_to_idx)\n",
    "    encoding = np.zeros((len(sequence), num_words))\n",
    "    for i, word in enumerate(sequence):\n",
    "        if word in word_to_idx:\n",
    "            encoding[i, word_to_idx[word]] = 1\n",
    "    return encoding\n",
    "\n",
    "unique_words = list(np.unique([word for sequence in sequences for word in sequence]))\n",
    "word_to_idx = {word: idx for idx, word in enumerate(unique_words)}\n",
    "\n",
    "encoded_sequences = []\n",
    "for sequence in sequences:\n",
    "    encoded_sequences.append(one_hot_encode(sequence, word_to_idx))\n",
    "\n",
    "encoded_sequences = np.array(encoded_sequences)"
   ]
  },
  {
   "cell_type": "code",
   "execution_count": 9,
   "metadata": {},
   "outputs": [],
   "source": [
    "from sklearn import preprocessing\n",
    "\n",
    "le = preprocessing.LabelEncoder()\n",
    "y_encoded = le.fit_transform(y)\n",
    "y_encoded_onehot = tf.keras.utils.to_categorical(y_encoded, num_classes = 5)"
   ]
  },
  {
   "cell_type": "code",
   "execution_count": 10,
   "metadata": {},
   "outputs": [],
   "source": [
    "def custom_train_test_split(x, y, _y):\n",
    "    unique_classes = np.unique(_y)\n",
    "    train_indices = []\n",
    "    test_indices = []\n",
    "    \n",
    "    for cls in unique_classes:\n",
    "        cls_indices = np.where(_y == cls)[0]\n",
    "        train_indices.extend(cls_indices[:-150])\n",
    "        test_indices.extend(cls_indices[-150:])\n",
    "    \n",
    "    train_x = x[train_indices]\n",
    "    train_y = y[train_indices]\n",
    "    test_x = x[test_indices]\n",
    "    test_y = y[test_indices]\n",
    "    \n",
    "    return train_x, train_y, test_x, test_y"
   ]
  },
  {
   "cell_type": "code",
   "execution_count": 11,
   "metadata": {},
   "outputs": [],
   "source": [
    "X_train, y_train, X_test, y_test = custom_train_test_split(encoded_sequences, \\\n",
    "                                                            y_encoded_onehot, y_encoded)"
   ]
  },
  {
   "cell_type": "code",
   "execution_count": 13,
   "metadata": {},
   "outputs": [
    {
     "name": "stdout",
     "output_type": "stream",
     "text": [
      "Epoch 1/20\n",
      "81/81 [==============================] - 13s 139ms/step - loss: 0.1652 - accuracy: 0.2432 - val_loss: 0.1504 - val_accuracy: 0.3307\n",
      "Epoch 2/20\n",
      "81/81 [==============================] - 11s 132ms/step - loss: 0.0538 - accuracy: 0.8884 - val_loss: 0.1374 - val_accuracy: 0.4933\n",
      "Epoch 3/20\n",
      "81/81 [==============================] - 10s 125ms/step - loss: 0.0216 - accuracy: 0.9696 - val_loss: 0.1259 - val_accuracy: 0.5440\n",
      "Epoch 4/20\n",
      "81/81 [==============================] - 10s 128ms/step - loss: 0.0083 - accuracy: 0.9920 - val_loss: 0.1225 - val_accuracy: 0.5453\n",
      "Epoch 5/20\n",
      "81/81 [==============================] - 10s 129ms/step - loss: 0.0039 - accuracy: 0.9972 - val_loss: 0.1184 - val_accuracy: 0.5720\n",
      "Epoch 6/20\n",
      "81/81 [==============================] - 11s 132ms/step - loss: 0.0022 - accuracy: 0.9976 - val_loss: 0.1168 - val_accuracy: 0.5720\n",
      "Epoch 7/20\n",
      "81/81 [==============================] - 11s 131ms/step - loss: 0.0014 - accuracy: 0.9976 - val_loss: 0.1139 - val_accuracy: 0.5960\n",
      "Epoch 8/20\n",
      "81/81 [==============================] - 10s 129ms/step - loss: 0.0011 - accuracy: 0.9988 - val_loss: 0.1154 - val_accuracy: 0.5933\n",
      "Epoch 9/20\n",
      "81/81 [==============================] - 12s 143ms/step - loss: 8.7106e-04 - accuracy: 0.9984 - val_loss: 0.1140 - val_accuracy: 0.5813\n",
      "Epoch 10/20\n",
      "81/81 [==============================] - 12s 148ms/step - loss: 8.1351e-04 - accuracy: 0.9988 - val_loss: 0.1164 - val_accuracy: 0.5720\n",
      "Epoch 11/20\n",
      "81/81 [==============================] - 12s 143ms/step - loss: 7.7291e-04 - accuracy: 0.9992 - val_loss: 0.1152 - val_accuracy: 0.5653\n",
      "Epoch 12/20\n",
      "81/81 [==============================] - 12s 152ms/step - loss: 6.8925e-04 - accuracy: 0.9988 - val_loss: 0.1132 - val_accuracy: 0.5867\n",
      "Epoch 13/20\n",
      "81/81 [==============================] - 13s 155ms/step - loss: 7.5933e-04 - accuracy: 0.9988 - val_loss: 0.1163 - val_accuracy: 0.5747\n",
      "Epoch 14/20\n",
      "81/81 [==============================] - 13s 158ms/step - loss: 7.8000e-04 - accuracy: 0.9992 - val_loss: 0.1149 - val_accuracy: 0.5787\n",
      "Epoch 15/20\n",
      "81/81 [==============================] - 13s 158ms/step - loss: 8.1761e-04 - accuracy: 0.9996 - val_loss: 0.1145 - val_accuracy: 0.5747\n",
      "Epoch 16/20\n",
      "81/81 [==============================] - 13s 155ms/step - loss: 7.9291e-04 - accuracy: 0.9992 - val_loss: 0.1119 - val_accuracy: 0.5893\n",
      "Epoch 17/20\n",
      "81/81 [==============================] - 13s 164ms/step - loss: 6.1810e-04 - accuracy: 0.9992 - val_loss: 0.1110 - val_accuracy: 0.5907\n",
      "Epoch 18/20\n",
      "81/81 [==============================] - 13s 163ms/step - loss: 5.4282e-04 - accuracy: 0.9992 - val_loss: 0.1107 - val_accuracy: 0.6013\n",
      "Epoch 19/20\n",
      "81/81 [==============================] - 14s 169ms/step - loss: 5.1660e-04 - accuracy: 0.9996 - val_loss: 0.1100 - val_accuracy: 0.5987\n",
      "Epoch 20/20\n",
      "81/81 [==============================] - 13s 166ms/step - loss: 4.8564e-04 - accuracy: 0.9992 - val_loss: 0.1097 - val_accuracy: 0.6027\n"
     ]
    },
    {
     "data": {
      "text/plain": [
       "<keras.callbacks.History at 0x24a37076e20>"
      ]
     },
     "execution_count": 13,
     "metadata": {},
     "output_type": "execute_result"
    }
   ],
   "source": [
    "import tensorflow as tf\n",
    "\n",
    "input_dim = X_train.shape[2]\n",
    "hidden_dim = 100\n",
    "output_dim = 5\n",
    "num_steps = X_train.shape[1]\n",
    "\n",
    "inputs = tf.keras.layers.Input(shape=(num_steps, input_dim))\n",
    "hidden_layer = tf.keras.layers.SimpleRNN(hidden_dim, activation='tanh')(inputs)\n",
    "outputs = tf.keras.layers.Dense(output_dim, activation='relu')(hidden_layer)\n",
    "\n",
    "model = tf.keras.Model(inputs=inputs, outputs=outputs)\n",
    "\n",
    "# optimizer = tf.keras.optimizers.Adam(learning_rate=0.01)\n",
    "# optimizer = tf.keras.optimizers.Adadelta(learning_rate=0.01)\n",
    "# alternate losses: sparse_categorical_crossentropy, categorical_crossentropy\n",
    "model.compile(optimizer='adam', loss='mse', metrics=['accuracy'])\n",
    "\n",
    "# early_stopping = tf.keras.callbacks.EarlyStopping(monitor='val_accuracy', patience=10, restore_best_weights=True)\n",
    "\n",
    "# Train the model\n",
    "model.fit(X_train, y_train, epochs=20, batch_size=31, validation_data=(X_test, y_test))\n"
   ]
  },
  {
   "cell_type": "code",
   "execution_count": null,
   "metadata": {},
   "outputs": [],
   "source": [
    "# input_dim = X_train.shape[2]\n",
    "# hidden_dim = 60\n",
    "# output_dim = 5\n",
    "# num_steps = X_train.shape[1]\n",
    "\n",
    "# model = tf.keras.Sequential()\n",
    "\n",
    "# model.add(tf.keras.layers.SimpleRNN(hidden_dim, activation='tanh', input_shape=(num_steps, input_dim)))\n",
    "# model.add(tf.keras.layers.Dense(output_dim, activation='softmax'))\n",
    "\n",
    "# model.compile(loss='sparse_categorical_crossentropy', optimizer='adam', metrics=['accuracy'])\n",
    "\n",
    "# model.summary()\n",
    "\n",
    "# model.fit(X_train, y_train, epochs=10, batch_size=31, validation_data=(X_test, y_test))"
   ]
  },
  {
   "cell_type": "code",
   "execution_count": 15,
   "metadata": {},
   "outputs": [
    {
     "name": "stdout",
     "output_type": "stream",
     "text": [
      "24/24 [==============================] - 3s 102ms/step - loss: 0.1097 - accuracy: 0.6027\n"
     ]
    }
   ],
   "source": [
    "loss, acc = model.evaluate(X_test, y_test)"
   ]
  },
  {
   "cell_type": "code",
   "execution_count": 16,
   "metadata": {},
   "outputs": [],
   "source": [
    "import pickle\n",
    "import datetime\n",
    "\n",
    "today = datetime.datetime.today()\n",
    "\n",
    "with open(f'./models/{int(acc * 100)}-model-({today.day}-{today.hour}-{today.minute}).p', 'wb') as outfile:\n",
    "    pickle.dump(model, outfile)"
   ]
  },
  {
   "cell_type": "code",
   "execution_count": null,
   "metadata": {},
   "outputs": [],
   "source": []
  }
 ],
 "metadata": {
  "kernelspec": {
   "display_name": "base",
   "language": "python",
   "name": "python3"
  },
  "language_info": {
   "codemirror_mode": {
    "name": "ipython",
    "version": 3
   },
   "file_extension": ".py",
   "mimetype": "text/x-python",
   "name": "python",
   "nbconvert_exporter": "python",
   "pygments_lexer": "ipython3",
   "version": "3.9.12"
  },
  "orig_nbformat": 4,
  "vscode": {
   "interpreter": {
    "hash": "ffc2c986650f75bb84df5ef0f5794d173c138677d61245fd2c4ff2debf2f2371"
   }
  }
 },
 "nbformat": 4,
 "nbformat_minor": 2
}
